{
 "cells": [
  {
   "attachments": {},
   "cell_type": "markdown",
   "metadata": {},
   "source": [
    "# Convert the Dataset to CSV"
   ]
  },
  {
   "cell_type": "code",
   "execution_count": 5,
   "metadata": {},
   "outputs": [],
   "source": [
    "import pandas\n",
    "\n",
    "df = pandas.read_excel(r'./dell_output_tcd.xlsx')\n",
    "df.to_csv('dell_output_tcd_csv.csv', index=False)\n",
    "    "
   ]
  },
  {
   "attachments": {},
   "cell_type": "markdown",
   "metadata": {},
   "source": [
    "## Convert to Format with single column, removing deleted Entries"
   ]
  },
  {
   "cell_type": "code",
   "execution_count": null,
   "metadata": {},
   "outputs": [],
   "source": [
    "import csv\n",
    "\n",
    "with open('./dell_output_tcd_csv.csv') as file:\n",
    "    dataset_csv_reader =  csv.reader(file)\n",
    "    \n",
    "    # Get headers\n",
    "    header = []\n",
    "    header = next(dataset_csv_reader)\n",
    "\n",
    "    #Extract Title and decription into list, removing deleted entries\n",
    "    text_list = []\n",
    "    for row in dataset_csv_reader:\n",
    "        if (row[1] != '[deleted]' and row[1] != '[deleted by user]' and row[1] != ''):\n",
    "            text_list.append(row[1])\n",
    "        if (row[2] != '[deleted]' and row[2] != '[deleted by user]' and row[2] != '[removed]' and row[2] != ''):\n",
    "            text_list.append(row[2])\n",
    "\n",
    "    \n",
    "    #Convert to df to output to csv\n",
    "    df = pandas.DataFrame(text_list)\n",
    "    df.to_csv('./dell_output_tcd_processed.csv', index=False)\n"
   ]
  }
 ],
 "metadata": {
  "kernelspec": {
   "display_name": "venv",
   "language": "python",
   "name": "python3"
  },
  "language_info": {
   "codemirror_mode": {
    "name": "ipython",
    "version": 3
   },
   "file_extension": ".py",
   "mimetype": "text/x-python",
   "name": "python",
   "nbconvert_exporter": "python",
   "pygments_lexer": "ipython3",
   "version": "3.9.16"
  },
  "orig_nbformat": 4,
  "vscode": {
   "interpreter": {
    "hash": "1197922063c724986158a3dd3f92ff66deafc1eeaeb64f89e94ea3a83b139bff"
   }
  }
 },
 "nbformat": 4,
 "nbformat_minor": 2
}
