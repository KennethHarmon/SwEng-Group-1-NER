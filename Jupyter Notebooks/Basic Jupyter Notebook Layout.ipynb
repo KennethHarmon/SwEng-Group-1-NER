{
 "cells": [
  {
   "cell_type": "code",
   "execution_count": 2,
   "id": "154ca095",
   "metadata": {},
   "outputs": [
    {
     "name": "stdout",
     "output_type": "stream",
     "text": [
      "Barack Obama PERSON\n",
      "Hawaii GPE\n"
     ]
    }
   ],
   "source": [
    "import spacy\n",
    "\n",
    "# Load the pre-trained model\n",
    "nlp = spacy.load('en_core_web_sm')\n",
    "\n",
    "# Define a piece of text to analyze\n",
    "text = \"Barack Obama was born in Hawaii.\"\n",
    "\n",
    "# Process the text with the NLP model\n",
    "doc = nlp(text)\n",
    "\n",
    "# Print out the detected named entities\n",
    "for ent in doc.ents:\n",
    "    print(ent.text, ent.label_)\n"
   ]
  }
 ],
 "metadata": {
  "kernelspec": {
   "display_name": "Python 3 (ipykernel)",
   "language": "python",
   "name": "python3"
  },
  "language_info": {
   "codemirror_mode": {
    "name": "ipython",
    "version": 3
   },
   "file_extension": ".py",
   "mimetype": "text/x-python",
   "name": "python",
   "nbconvert_exporter": "python",
   "pygments_lexer": "ipython3",
   "version": "3.11.1"
  }
 },
 "nbformat": 4,
 "nbformat_minor": 5
}
