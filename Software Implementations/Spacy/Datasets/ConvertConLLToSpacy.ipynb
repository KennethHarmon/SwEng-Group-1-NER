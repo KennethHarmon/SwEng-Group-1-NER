{
 "cells": [
  {
   "attachments": {},
   "cell_type": "markdown",
   "metadata": {},
   "source": [
    "Note: To run this, replace 'KennethLabels.conll' with your file name.\n",
    "Also make sure the first line of the conll file looks like this:\n",
    "\n",
    "```\n",
    "-DOCSTART- -X- O O\n",
    "```\n",
    "\n",
    "* You're most likely going to have to add the second O at the end."
   ]
  },
  {
   "cell_type": "code",
   "execution_count": 4,
   "metadata": {},
   "outputs": [
    {
     "name": "stdout",
     "output_type": "stream",
     "text": [
      "\u001b[38;5;3m⚠ Document delimiters found, automatic document segmentation with `-n`\n",
      "disabled.\u001b[0m\n",
      "\u001b[38;5;2m✔ Generated output file (1 documents): AssessmentDataset27-03.spacy\u001b[0m\n"
     ]
    }
   ],
   "source": [
    "!spacy convert AssessmentDataset27-03.conll -c conll ."
   ]
  }
 ],
 "metadata": {
  "kernelspec": {
   "display_name": "Python 3.10.6 ('venv': venv)",
   "language": "python",
   "name": "python3"
  },
  "language_info": {
   "codemirror_mode": {
    "name": "ipython",
    "version": 3
   },
   "file_extension": ".py",
   "mimetype": "text/x-python",
   "name": "python",
   "nbconvert_exporter": "python",
   "pygments_lexer": "ipython3",
   "version": "3.10.6"
  },
  "orig_nbformat": 4,
  "vscode": {
   "interpreter": {
    "hash": "c048de38febf3b51e3008bf2851524fac3580de6e7a13b5e75def4ead20c554e"
   }
  }
 },
 "nbformat": 4,
 "nbformat_minor": 2
}
