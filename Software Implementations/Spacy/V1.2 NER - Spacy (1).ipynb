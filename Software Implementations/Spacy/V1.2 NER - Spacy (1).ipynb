{
 "cells": [
  {
   "attachments": {},
   "cell_type": "markdown",
   "id": "be440da5",
   "metadata": {},
   "source": [
    "# Training Spacy with Labelled Data"
   ]
  },
  {
   "attachments": {},
   "cell_type": "markdown",
   "id": "9d9af2c9",
   "metadata": {},
   "source": [
    "## Run Spacey Small Pipeline with Labelled Tweets Dataset"
   ]
  },
  {
   "cell_type": "code",
   "execution_count": 3,
   "id": "d1690498",
   "metadata": {},
   "outputs": [
    {
     "ename": "ModuleNotFoundError",
     "evalue": "No module named 'matplotlib'",
     "output_type": "error",
     "traceback": [
      "\u001b[1;31m---------------------------------------------------------------------------\u001b[0m",
      "\u001b[1;31mModuleNotFoundError\u001b[0m                       Traceback (most recent call last)",
      "Cell \u001b[1;32mIn[3], line 1\u001b[0m\n\u001b[1;32m----> 1\u001b[0m get_ipython()\u001b[39m.\u001b[39;49mrun_line_magic(\u001b[39m'\u001b[39;49m\u001b[39mmatplotlib\u001b[39;49m\u001b[39m'\u001b[39;49m, \u001b[39m'\u001b[39;49m\u001b[39mwidget\u001b[39;49m\u001b[39m'\u001b[39;49m)\n\u001b[0;32m      2\u001b[0m \u001b[39m# import necessary libraries\u001b[39;00m\n\u001b[0;32m      3\u001b[0m \u001b[39mimport\u001b[39;00m \u001b[39mjson\u001b[39;00m\n",
      "File \u001b[1;32m~\\AppData\\Local\\Packages\\PythonSoftwareFoundation.Python.3.10_qbz5n2kfra8p0\\LocalCache\\local-packages\\Python310\\site-packages\\IPython\\core\\interactiveshell.py:2369\u001b[0m, in \u001b[0;36mInteractiveShell.run_line_magic\u001b[1;34m(self, magic_name, line, _stack_depth)\u001b[0m\n\u001b[0;32m   2367\u001b[0m     kwargs[\u001b[39m'\u001b[39m\u001b[39mlocal_ns\u001b[39m\u001b[39m'\u001b[39m] \u001b[39m=\u001b[39m \u001b[39mself\u001b[39m\u001b[39m.\u001b[39mget_local_scope(stack_depth)\n\u001b[0;32m   2368\u001b[0m \u001b[39mwith\u001b[39;00m \u001b[39mself\u001b[39m\u001b[39m.\u001b[39mbuiltin_trap:\n\u001b[1;32m-> 2369\u001b[0m     result \u001b[39m=\u001b[39m fn(\u001b[39m*\u001b[39margs, \u001b[39m*\u001b[39m\u001b[39m*\u001b[39mkwargs)\n\u001b[0;32m   2371\u001b[0m \u001b[39m# The code below prevents the output from being displayed\u001b[39;00m\n\u001b[0;32m   2372\u001b[0m \u001b[39m# when using magics with decodator @output_can_be_silenced\u001b[39;00m\n\u001b[0;32m   2373\u001b[0m \u001b[39m# when the last Python token in the expression is a ';'.\u001b[39;00m\n\u001b[0;32m   2374\u001b[0m \u001b[39mif\u001b[39;00m \u001b[39mgetattr\u001b[39m(fn, magic\u001b[39m.\u001b[39mMAGIC_OUTPUT_CAN_BE_SILENCED, \u001b[39mFalse\u001b[39;00m):\n",
      "File \u001b[1;32m~\\AppData\\Local\\Packages\\PythonSoftwareFoundation.Python.3.10_qbz5n2kfra8p0\\LocalCache\\local-packages\\Python310\\site-packages\\IPython\\core\\magics\\pylab.py:99\u001b[0m, in \u001b[0;36mPylabMagics.matplotlib\u001b[1;34m(self, line)\u001b[0m\n\u001b[0;32m     97\u001b[0m     \u001b[39mprint\u001b[39m(\u001b[39m\"\u001b[39m\u001b[39mAvailable matplotlib backends: \u001b[39m\u001b[39m%s\u001b[39;00m\u001b[39m\"\u001b[39m \u001b[39m%\u001b[39m backends_list)\n\u001b[0;32m     98\u001b[0m \u001b[39melse\u001b[39;00m:\n\u001b[1;32m---> 99\u001b[0m     gui, backend \u001b[39m=\u001b[39m \u001b[39mself\u001b[39;49m\u001b[39m.\u001b[39;49mshell\u001b[39m.\u001b[39;49menable_matplotlib(args\u001b[39m.\u001b[39;49mgui\u001b[39m.\u001b[39;49mlower() \u001b[39mif\u001b[39;49;00m \u001b[39misinstance\u001b[39;49m(args\u001b[39m.\u001b[39;49mgui, \u001b[39mstr\u001b[39;49m) \u001b[39melse\u001b[39;49;00m args\u001b[39m.\u001b[39;49mgui)\n\u001b[0;32m    100\u001b[0m     \u001b[39mself\u001b[39m\u001b[39m.\u001b[39m_show_matplotlib_backend(args\u001b[39m.\u001b[39mgui, backend)\n",
      "File \u001b[1;32m~\\AppData\\Local\\Packages\\PythonSoftwareFoundation.Python.3.10_qbz5n2kfra8p0\\LocalCache\\local-packages\\Python310\\site-packages\\IPython\\core\\interactiveshell.py:3540\u001b[0m, in \u001b[0;36mInteractiveShell.enable_matplotlib\u001b[1;34m(self, gui)\u001b[0m\n\u001b[0;32m   3519\u001b[0m \u001b[39mdef\u001b[39;00m \u001b[39menable_matplotlib\u001b[39m(\u001b[39mself\u001b[39m, gui\u001b[39m=\u001b[39m\u001b[39mNone\u001b[39;00m):\n\u001b[0;32m   3520\u001b[0m \u001b[39m    \u001b[39m\u001b[39m\"\"\"Enable interactive matplotlib and inline figure support.\u001b[39;00m\n\u001b[0;32m   3521\u001b[0m \n\u001b[0;32m   3522\u001b[0m \u001b[39m    This takes the following steps:\u001b[39;00m\n\u001b[1;32m   (...)\u001b[0m\n\u001b[0;32m   3538\u001b[0m \u001b[39m        display figures inline.\u001b[39;00m\n\u001b[0;32m   3539\u001b[0m \u001b[39m    \"\"\"\u001b[39;00m\n\u001b[1;32m-> 3540\u001b[0m     \u001b[39mfrom\u001b[39;00m \u001b[39mmatplotlib_inline\u001b[39;00m\u001b[39m.\u001b[39;00m\u001b[39mbackend_inline\u001b[39;00m \u001b[39mimport\u001b[39;00m configure_inline_support\n\u001b[0;32m   3542\u001b[0m     \u001b[39mfrom\u001b[39;00m \u001b[39mIPython\u001b[39;00m\u001b[39m.\u001b[39;00m\u001b[39mcore\u001b[39;00m \u001b[39mimport\u001b[39;00m pylabtools \u001b[39mas\u001b[39;00m pt\n\u001b[0;32m   3543\u001b[0m     gui, backend \u001b[39m=\u001b[39m pt\u001b[39m.\u001b[39mfind_gui_and_backend(gui, \u001b[39mself\u001b[39m\u001b[39m.\u001b[39mpylab_gui_select)\n",
      "File \u001b[1;32m~\\AppData\\Local\\Packages\\PythonSoftwareFoundation.Python.3.10_qbz5n2kfra8p0\\LocalCache\\local-packages\\Python310\\site-packages\\matplotlib_inline\\__init__.py:1\u001b[0m\n\u001b[1;32m----> 1\u001b[0m \u001b[39mfrom\u001b[39;00m \u001b[39m.\u001b[39;00m \u001b[39mimport\u001b[39;00m backend_inline, config  \u001b[39m# noqa\u001b[39;00m\n\u001b[0;32m      2\u001b[0m __version__ \u001b[39m=\u001b[39m \u001b[39m\"\u001b[39m\u001b[39m0.1.6\u001b[39m\u001b[39m\"\u001b[39m  \u001b[39m# noqa\u001b[39;00m\n",
      "File \u001b[1;32m~\\AppData\\Local\\Packages\\PythonSoftwareFoundation.Python.3.10_qbz5n2kfra8p0\\LocalCache\\local-packages\\Python310\\site-packages\\matplotlib_inline\\backend_inline.py:6\u001b[0m\n\u001b[0;32m      1\u001b[0m \u001b[39m\"\"\"A matplotlib backend for publishing figures via display_data\"\"\"\u001b[39;00m\n\u001b[0;32m      3\u001b[0m \u001b[39m# Copyright (c) IPython Development Team.\u001b[39;00m\n\u001b[0;32m      4\u001b[0m \u001b[39m# Distributed under the terms of the BSD 3-Clause License.\u001b[39;00m\n\u001b[1;32m----> 6\u001b[0m \u001b[39mimport\u001b[39;00m \u001b[39mmatplotlib\u001b[39;00m\n\u001b[0;32m      7\u001b[0m \u001b[39mfrom\u001b[39;00m \u001b[39mmatplotlib\u001b[39;00m \u001b[39mimport\u001b[39;00m colors\n\u001b[0;32m      8\u001b[0m \u001b[39mfrom\u001b[39;00m \u001b[39mmatplotlib\u001b[39;00m\u001b[39m.\u001b[39;00m\u001b[39mbackends\u001b[39;00m \u001b[39mimport\u001b[39;00m backend_agg\n",
      "\u001b[1;31mModuleNotFoundError\u001b[0m: No module named 'matplotlib'"
     ]
    }
   ],
   "source": [
    "%matplotlib widget\n",
    "# import necessary libraries\n",
    "import json\n",
    "import csv\n",
    "import spacy\n",
    "import matplotlib.pyplot as plt\n",
    "from itertools import groupby, zip_longest\n",
    "\n",
    "entities = {}\n",
    "entity_count = {}\n",
    "TWEET_AMOUNT = 1000\n",
    "\n",
    "# Load a pre-trained English language model from spacy library\n",
    "nlp = spacy.load(\"en_core_web_sm\")\n",
    "\n",
    "# Read tweets from JSON file\n",
    "with open('C:/Users/faith/Downloads/project-1-at-2023-03-16-22-05-cdab445f.json', encoding='utf-8') as file:\n",
    "    data = json.load(file)\n",
    "    tweets_list = []\n",
    "    for tweet in data:\n",
    "        try:\n",
    "            tweets_list.append(tweet['text'])\n",
    "        except KeyError:\n",
    "            pass\n",
    "\n",
    "\n",
    "# Process tweets using spaCy and extract entities\n",
    "for doc in nlp.pipe(tweets_list[:TWEET_AMOUNT], disable=['tok2vec', 'tagger', 'parser', 'attribute_ruler', 'lemmatizer']):\n",
    "    # Add all identified entities to a list, and store those under their label in the entities dictionary, no duplicates.\n",
    "    # e.g entities['ORG'] = ['Apple', 'Dell']\n",
    "    temp = {key: list(set(map(lambda x: str(x), g))) for key, g in groupby(sorted(doc.ents, key=lambda x: x.label_), lambda x: x.label_)}\n",
    "    for key, value in temp.items():\n",
    "        if key in entities.keys():\n",
    "            entities[key] += value\n",
    "            entity_count[key] += len(value)\n",
    "        else:\n",
    "            entities[key] = value\n",
    "            entity_count[key] = len(value)\n",
    "\n",
    "# Merge the lists of entities which are columns, together, to create rows for the csv file\n",
    "entity_lists = [set(entities[key]) for key in entities.keys()]\n",
    "entity_rows = zip_longest(*entity_lists, fillvalue=\" \")\n",
    "entity_rows = [*entity_rows]\n",
    "\n",
    "# Write list of recognised entities to a csv file in columns under their label\n",
    "with open('entities_recognised(en_core_web_trf).csv','w', newline='') as out:\n",
    "    csv_out=csv.writer(out, delimiter=',', skipinitialspace=True)\n",
    "    csv_out.writerow([key for key in entities.keys()])\n",
    "    for row in entity_rows:\n",
    "        csv_out.writerow(row)\n",
    "\n",
    "# Display Metrics of entities recognised\n",
    "entity_labels = list(entities.keys())\n",
    "entity_counts = list(entity_count.values())\n",
    "\n",
    "plt.figure(figsize=(10,8))\n",
    "plt.bar(entity_labels, entity_counts, align='edge', alpha=0.5, width=0.5)\n",
    "plt.xticks(entity_labels,entity_labels, rotation='vertical')\n",
    "plt.ylabel('Frequency')\n",
    "plt.title('Number of entities recognised')\n",
    "plt.show()"
   ]
  },
  {
   "cell_type": "markdown",
   "id": "bfc76b3f",
   "metadata": {},
   "source": [
    "## Run Spacey Accuracy Pipeline with Labelled Tweets Dataset"
   ]
  },
  {
   "cell_type": "code",
   "execution_count": null,
   "id": "b4feb158",
   "metadata": {},
   "outputs": [
    {
     "ename": "KeyError",
     "evalue": "'text'",
     "output_type": "error",
     "traceback": [
      "\u001b[1;31m---------------------------------------------------------------------------\u001b[0m",
      "\u001b[1;31mKeyError\u001b[0m                                  Traceback (most recent call last)",
      "Cell \u001b[1;32mIn[25], line 19\u001b[0m\n\u001b[0;32m     16\u001b[0m     tweets \u001b[38;5;241m=\u001b[39m json\u001b[38;5;241m.\u001b[39mload(f)\n\u001b[0;32m     18\u001b[0m \u001b[38;5;28;01mfor\u001b[39;00m tweet \u001b[38;5;129;01min\u001b[39;00m tweets[:TWEET_AMOUNT]:\n\u001b[1;32m---> 19\u001b[0m     doc \u001b[38;5;241m=\u001b[39m nlp(\u001b[43mtweet\u001b[49m\u001b[43m[\u001b[49m\u001b[38;5;124;43m'\u001b[39;49m\u001b[38;5;124;43mtext\u001b[39;49m\u001b[38;5;124;43m'\u001b[39;49m\u001b[43m]\u001b[49m)\n\u001b[0;32m     20\u001b[0m     \u001b[38;5;66;03m# Add all identified entities to a list, and store those under their label in the entities dictionary, no duplicates.\u001b[39;00m\n\u001b[0;32m     21\u001b[0m     \u001b[38;5;66;03m# e.g entities['ORG'] = ['Apple', 'Dell']\u001b[39;00m\n\u001b[0;32m     22\u001b[0m     temp \u001b[38;5;241m=\u001b[39m {key: \u001b[38;5;28mlist\u001b[39m(\u001b[38;5;28mset\u001b[39m(\u001b[38;5;28mmap\u001b[39m(\u001b[38;5;28;01mlambda\u001b[39;00m x: \u001b[38;5;28mstr\u001b[39m(x), g))) \u001b[38;5;28;01mfor\u001b[39;00m key, g \u001b[38;5;129;01min\u001b[39;00m groupby(\u001b[38;5;28msorted\u001b[39m(doc\u001b[38;5;241m.\u001b[39ments, key\u001b[38;5;241m=\u001b[39m\u001b[38;5;28;01mlambda\u001b[39;00m x: x\u001b[38;5;241m.\u001b[39mlabel_), \u001b[38;5;28;01mlambda\u001b[39;00m x: x\u001b[38;5;241m.\u001b[39mlabel_)}\n",
      "\u001b[1;31mKeyError\u001b[0m: 'text'"
     ]
    }
   ],
   "source": [
    "%matplotlib widget\n",
    "# import necessary libraries\n",
    "import spacy\n",
    "import matplotlib.pyplot as plt\n",
    "from itertools import groupby, zip_longest\n",
    "import json\n",
    "\n",
    "entities = {}\n",
    "entity_count = {}\n",
    "TWEET_AMOUNT = 1000\n",
    "\n",
    "# load a pre-trained English language model from spacy library\n",
    "nlp = spacy.load(\"en_core_web_sm\")\n",
    "\n",
    "with open('C:/Users/faith/Downloads/project-1-at-2023-03-16-22-05-cdab445f.json', encoding='utf-8') as f:\n",
    "    tweets = json.load(f)\n",
    "\n",
    "for tweet in tweets[:TWEET_AMOUNT]:\n",
    "    doc = nlp(tweet['text']) #KEY NAME NEEDS TO BE CHANGED \n",
    "    # Add all identified entities to a list, and store those under their label in the entities dictionary, no duplicates.\n",
    "    # e.g entities['ORG'] = ['Apple', 'Dell']\n",
    "    temp = {key: list(set(map(lambda x: str(x), g))) for key, g in groupby(sorted(doc.ents, key=lambda x: x.label_), lambda x: x.label_)}\n",
    "    for key, value in temp.items():\n",
    "        if key in entities.keys():\n",
    "            entities[key] += value\n",
    "            entity_count[key] += len(value)\n",
    "        else:\n",
    "            entities[key] = value\n",
    "            entity_count[key] = len(value)\n",
    "\n",
    "entity_lists = [set(entities[key]) for key in entities.keys()]\n",
    "\n",
    "# Merge the lists of entities which are columns, together, to create rows for the csv file\n",
    "entity_rows = zip_longest(*entity_lists, fillvalue=\" \")\n",
    "entity_rows = [*entity_rows]\n",
    "\n",
    "# Write list of recognised entities to a csv file in columns under their label\n",
    "with open('entities_recognised(en_core_web_trf).csv','w') as out:\n",
    "    csv_out=csv.writer(out, delimiter=',', skipinitialspace=True)\n",
    "    csv_out.writerow([key for key in entities.keys()])\n",
    "    for row in entity_rows:\n",
    "        csv_out.writerow(row)\n",
    "\n",
    "#Display Metrics of entities recognised\n",
    "entity_labels = list(entities.keys())\n",
    "entity_counts = list(entity_count.values())\n",
    "\n",
    "plt.figure(figsize=(10,8))\n",
    "plt.bar(entity_labels, entity_counts, align='edge', alpha=0.5, width=0.5)\n",
    "plt.xticks(entity_labels,entity_labels, rotation='vertical')\n",
    "plt.ylabel('Frequency')\n",
    "plt.title('Number of entities recognised')"
   ]
  },
  {
   "cell_type": "code",
   "execution_count": null,
   "id": "83fa1bc2",
   "metadata": {},
   "outputs": [],
   "source": []
  }
 ],
 "metadata": {
  "kernelspec": {
   "display_name": "Python 3 (ipykernel)",
   "language": "python",
   "name": "python3"
  },
  "language_info": {
   "codemirror_mode": {
    "name": "ipython",
    "version": 3
   },
   "file_extension": ".py",
   "mimetype": "text/x-python",
   "name": "python",
   "nbconvert_exporter": "python",
   "pygments_lexer": "ipython3",
   "version": "3.10.10"
  }
 },
 "nbformat": 4,
 "nbformat_minor": 5
}
