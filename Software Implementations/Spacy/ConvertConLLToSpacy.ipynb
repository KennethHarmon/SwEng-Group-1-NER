{
 "cells": [
  {
   "attachments": {},
   "cell_type": "markdown",
   "metadata": {},
   "source": [
    "Note: To run this, replace 'KennethLabels.conll' with your file name.\n",
    "Also make sure the first line of the conll file looks like this:\n",
    "\n",
    "```\n",
    "-DOCSTART- -X- O O\n",
    "```\n",
    "\n",
    "* You're most likely going to have to add the second O at the end."
   ]
  },
  {
   "cell_type": "code",
   "execution_count": 1,
   "metadata": {},
   "outputs": [
    {
     "name": "stdout",
     "output_type": "stream",
     "text": [
      "\u001b[38;5;3m⚠ Document delimiters found, automatic document segmentation with `-n`\n",
      "disabled.\u001b[0m\n",
      "\u001b[38;5;2m✔ Generated output file (1 documents): KennethLabels.spacy\u001b[0m\n"
     ]
    }
   ],
   "source": [
    "!spacy convert KennethLabels.conll -c conll ."
   ]
  }
 ],
 "metadata": {
  "kernelspec": {
   "display_name": "venv",
   "language": "python",
   "name": "python3"
  },
  "language_info": {
   "codemirror_mode": {
    "name": "ipython",
    "version": 3
   },
   "file_extension": ".py",
   "mimetype": "text/x-python",
   "name": "python",
   "nbconvert_exporter": "python",
   "pygments_lexer": "ipython3",
   "version": "3.9.16"
  },
  "orig_nbformat": 4,
  "vscode": {
   "interpreter": {
    "hash": "1197922063c724986158a3dd3f92ff66deafc1eeaeb64f89e94ea3a83b139bff"
   }
  }
 },
 "nbformat": 4,
 "nbformat_minor": 2
}
