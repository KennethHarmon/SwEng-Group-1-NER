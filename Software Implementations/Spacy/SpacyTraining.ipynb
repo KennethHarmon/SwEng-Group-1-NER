{
 "cells": [
  {
   "cell_type": "code",
   "execution_count": 1,
   "metadata": {},
   "outputs": [
    {
     "name": "stdout",
     "output_type": "stream",
     "text": [
      "^C\n"
     ]
    },
    {
     "name": "stdout",
     "output_type": "stream",
     "text": [
      "\u001b[38;5;4mℹ Saving to output directory: output_cpu_kenneth\u001b[0m\n",
      "\u001b[38;5;4mℹ Using CPU\u001b[0m\n",
      "\u001b[1m\n",
      "=========================== Initializing pipeline ===========================\u001b[0m\n"
     ]
    },
    {
     "name": "stderr",
     "output_type": "stream",
     "text": [
      "[2023-04-01 09:45:58,756] [INFO] Set up nlp object from config\n",
      "[2023-04-01 09:45:58,767] [INFO] Pipeline: ['tok2vec', 'ner']\n",
      "[2023-04-01 09:45:58,770] [INFO] Created vocabulary\n",
      "[2023-04-01 09:46:06,597] [INFO] Added vectors: en_core_web_lg\n",
      "Traceback (most recent call last):\n",
      "  File \"C:\\Python310\\lib\\runpy.py\", line 196, in _run_module_as_main\n",
      "    return _run_code(code, main_globals, None,\n",
      "  File \"C:\\Python310\\lib\\runpy.py\", line 86, in _run_code\n",
      "    exec(code, run_globals)\n",
      "  File \"D:\\Kenneth.Files\\.TCD\\SWENG-NER-Project\\SwEng-Group-1-NER\\venv2\\lib\\site-packages\\spacy\\__main__.py\", line 4, in <module>\n",
      "    setup_cli()\n",
      "  File \"D:\\Kenneth.Files\\.TCD\\SWENG-NER-Project\\SwEng-Group-1-NER\\venv2\\lib\\site-packages\\spacy\\cli\\_util.py\", line 74, in setup_cli\n",
      "    command(prog_name=COMMAND)\n",
      "  File \"D:\\Kenneth.Files\\.TCD\\SWENG-NER-Project\\SwEng-Group-1-NER\\venv2\\lib\\site-packages\\click\\core.py\", line 1130, in __call__\n",
      "    return self.main(*args, **kwargs)\n",
      "  File \"D:\\Kenneth.Files\\.TCD\\SWENG-NER-Project\\SwEng-Group-1-NER\\venv2\\lib\\site-packages\\typer\\core.py\", line 778, in main\n",
      "    return _main(\n",
      "  File \"D:\\Kenneth.Files\\.TCD\\SWENG-NER-Project\\SwEng-Group-1-NER\\venv2\\lib\\site-packages\\typer\\core.py\", line 216, in _main\n",
      "    rv = self.invoke(ctx)\n",
      "  File \"D:\\Kenneth.Files\\.TCD\\SWENG-NER-Project\\SwEng-Group-1-NER\\venv2\\lib\\site-packages\\click\\core.py\", line 1657, in invoke\n",
      "    return _process_result(sub_ctx.command.invoke(sub_ctx))\n",
      "  File \"D:\\Kenneth.Files\\.TCD\\SWENG-NER-Project\\SwEng-Group-1-NER\\venv2\\lib\\site-packages\\click\\core.py\", line 1404, in invoke\n",
      "    return ctx.invoke(self.callback, **ctx.params)\n",
      "  File \"D:\\Kenneth.Files\\.TCD\\SWENG-NER-Project\\SwEng-Group-1-NER\\venv2\\lib\\site-packages\\click\\core.py\", line 760, in invoke\n",
      "    return __callback(*args, **kwargs)\n",
      "  File \"D:\\Kenneth.Files\\.TCD\\SWENG-NER-Project\\SwEng-Group-1-NER\\venv2\\lib\\site-packages\\typer\\main.py\", line 683, in wrapper\n",
      "    return callback(**use_params)  # type: ignore\n",
      "  File \"D:\\Kenneth.Files\\.TCD\\SWENG-NER-Project\\SwEng-Group-1-NER\\venv2\\lib\\site-packages\\spacy\\cli\\train.py\", line 45, in train_cli\n",
      "    train(config_path, output_path, use_gpu=use_gpu, overrides=overrides)\n",
      "  File \"D:\\Kenneth.Files\\.TCD\\SWENG-NER-Project\\SwEng-Group-1-NER\\venv2\\lib\\site-packages\\spacy\\cli\\train.py\", line 72, in train\n",
      "    nlp = init_nlp(config, use_gpu=use_gpu)\n",
      "  File \"D:\\Kenneth.Files\\.TCD\\SWENG-NER-Project\\SwEng-Group-1-NER\\venv2\\lib\\site-packages\\spacy\\training\\initialize.py\", line 85, in init_nlp\n",
      "    nlp.initialize(lambda: train_corpus(nlp), sgd=optimizer)\n",
      "  File \"D:\\Kenneth.Files\\.TCD\\SWENG-NER-Project\\SwEng-Group-1-NER\\venv2\\lib\\site-packages\\spacy\\language.py\", line 1286, in initialize\n",
      "    init_vocab(\n",
      "  File \"D:\\Kenneth.Files\\.TCD\\SWENG-NER-Project\\SwEng-Group-1-NER\\venv2\\lib\\site-packages\\spacy\\training\\initialize.py\", line 136, in init_vocab\n",
      "    vectors_hash = hash(nlp.vocab.vectors.to_bytes(exclude=[\"strings\"]))\n",
      "  File \"spacy\\vectors.pyx\", line 654, in spacy.vectors.Vectors.to_bytes\n",
      "  File \"D:\\Kenneth.Files\\.TCD\\SWENG-NER-Project\\SwEng-Group-1-NER\\venv2\\lib\\site-packages\\spacy\\util.py\", line 1311, in to_bytes\n",
      "    return srsly.msgpack_dumps(to_dict(getters, exclude))\n",
      "  File \"D:\\Kenneth.Files\\.TCD\\SWENG-NER-Project\\SwEng-Group-1-NER\\venv2\\lib\\site-packages\\spacy\\util.py\", line 1329, in to_dict\n",
      "    serialized[key] = getter()\n",
      "  File \"spacy\\vectors.pyx\", line 646, in spacy.vectors.Vectors.to_bytes.serialize_weights\n",
      "  File \"D:\\Kenneth.Files\\.TCD\\SWENG-NER-Project\\SwEng-Group-1-NER\\venv2\\lib\\site-packages\\srsly\\_msgpack_api.py\", line 14, in msgpack_dumps\n",
      "    return msgpack.dumps(data, use_bin_type=True)\n",
      "  File \"D:\\Kenneth.Files\\.TCD\\SWENG-NER-Project\\SwEng-Group-1-NER\\venv2\\lib\\site-packages\\srsly\\msgpack\\__init__.py\", line 55, in packb\n",
      "    return Packer(**kwargs).pack(o)\n",
      "  File \"srsly\\msgpack\\_packer.pyx\", line 285, in srsly.msgpack._packer.Packer.pack\n",
      "  File \"srsly\\msgpack\\_packer.pyx\", line 291, in srsly.msgpack._packer.Packer.pack\n",
      "  File \"srsly\\msgpack\\_packer.pyx\", line 288, in srsly.msgpack._packer.Packer.pack\n",
      "  File \"srsly\\msgpack\\_packer.pyx\", line 278, in srsly.msgpack._packer.Packer._pack\n",
      "  File \"D:\\Kenneth.Files\\.TCD\\SWENG-NER-Project\\SwEng-Group-1-NER\\venv2\\lib\\site-packages\\spacy_transformers\\data_classes.py\", line 231, in serialize_transformer_data\n",
      "    return obj if chain is None else chain(obj)\n",
      "  File \"D:\\Kenneth.Files\\.TCD\\SWENG-NER-Project\\SwEng-Group-1-NER\\venv2\\lib\\site-packages\\srsly\\msgpack\\_msgpack_numpy.py\", line 32, in encode_numpy\n",
      "    if has_cupy and isinstance(obj, cupy.ndarray):\n",
      "AttributeError: module 'cupy' has no attribute 'ndarray'\n"
     ]
    }
   ],
   "source": [
    "!python -m spacy train config.cfg --output ./output_cpu_kenneth"
   ]
  }
 ],
 "metadata": {
  "kernelspec": {
   "display_name": "Python 3.10.6 ('venv': venv)",
   "language": "python",
   "name": "python3"
  },
  "language_info": {
   "codemirror_mode": {
    "name": "ipython",
    "version": 3
   },
   "file_extension": ".py",
   "mimetype": "text/x-python",
   "name": "python",
   "nbconvert_exporter": "python",
   "pygments_lexer": "ipython3",
   "version": "3.10.6"
  },
  "orig_nbformat": 4,
  "vscode": {
   "interpreter": {
    "hash": "c048de38febf3b51e3008bf2851524fac3580de6e7a13b5e75def4ead20c554e"
   }
  }
 },
 "nbformat": 4,
 "nbformat_minor": 2
}
