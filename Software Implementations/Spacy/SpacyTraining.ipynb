{
 "cells": [
  {
   "cell_type": "code",
   "execution_count": 4,
   "metadata": {},
   "outputs": [
    {
     "name": "stdout",
     "output_type": "stream",
     "text": [
      "\u001b[38;5;4mℹ Saving to output directory: output\u001b[0m\n",
      "\u001b[38;5;4mℹ Using CPU\u001b[0m\n",
      "\u001b[1m\n",
      "=========================== Initializing pipeline ===========================\u001b[0m\n",
      "[2023-03-27 13:38:23,467] [INFO] Set up nlp object from config\n",
      "[2023-03-27 13:38:23,483] [INFO] Pipeline: ['tok2vec', 'ner']\n",
      "[2023-03-27 13:38:23,488] [INFO] Created vocabulary\n",
      "[2023-03-27 13:38:25,843] [INFO] Added vectors: en_core_web_lg\n",
      "[2023-03-27 13:38:28,984] [INFO] Finished initializing nlp object\n",
      "[2023-03-27 13:39:30,810] [INFO] Initialized pipeline components: ['tok2vec', 'ner']\n",
      "\u001b[38;5;2m✔ Initialized pipeline\u001b[0m\n",
      "\u001b[1m\n",
      "============================= Training pipeline =============================\u001b[0m\n",
      "\u001b[38;5;4mℹ Pipeline: ['tok2vec', 'ner']\u001b[0m\n",
      "\u001b[38;5;4mℹ Initial learn rate: 0.001\u001b[0m\n",
      "E    #       LOSS TOK2VEC  LOSS NER  ENTS_F  ENTS_P  ENTS_R  SCORE \n",
      "---  ------  ------------  --------  ------  ------  ------  ------\n",
      "  0       0          0.00  31728.96    0.15    1.07    0.08    0.00\n",
      "200     200      44299.64  1168842.49   98.07   98.21   97.92    0.98\n"
     ]
    }
   ],
   "source": [
    "!python -m spacy train config.cfg --output ./output --paths.train \"./RedditDataset27-03.spacy\" --paths.dev \"./RedditDataset27-03.spacy\""
   ]
  }
 ],
 "metadata": {
  "kernelspec": {
   "display_name": "venv",
   "language": "python",
   "name": "python3"
  },
  "language_info": {
   "codemirror_mode": {
    "name": "ipython",
    "version": 3
   },
   "file_extension": ".py",
   "mimetype": "text/x-python",
   "name": "python",
   "nbconvert_exporter": "python",
   "pygments_lexer": "ipython3",
   "version": "3.9.16"
  },
  "orig_nbformat": 4,
  "vscode": {
   "interpreter": {
    "hash": "1197922063c724986158a3dd3f92ff66deafc1eeaeb64f89e94ea3a83b139bff"
   }
  }
 },
 "nbformat": 4,
 "nbformat_minor": 2
}
