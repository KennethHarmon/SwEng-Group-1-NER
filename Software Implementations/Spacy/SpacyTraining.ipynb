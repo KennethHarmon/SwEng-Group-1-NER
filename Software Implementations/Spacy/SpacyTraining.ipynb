{
 "cells": [
  {
   "cell_type": "code",
   "execution_count": 2,
   "metadata": {},
   "outputs": [
    {
     "name": "stdout",
     "output_type": "stream",
     "text": [
      "\u001b[38;5;4mℹ Saving to output directory: output\u001b[0m\n",
      "\u001b[38;5;4mℹ Using CPU\u001b[0m\n",
      "\u001b[1m\n",
      "=========================== Initializing pipeline ===========================\u001b[0m\n",
      "[2023-03-06 13:12:36,638] [INFO] Set up nlp object from config\n",
      "[2023-03-06 13:12:36,650] [INFO] Pipeline: ['transformer', 'ner']\n",
      "[2023-03-06 13:12:36,654] [INFO] Created vocabulary\n",
      "[2023-03-06 13:12:36,657] [INFO] Finished initializing nlp object\n",
      "Downloading (…)lve/main/config.json: 100%|█████| 481/481 [00:00<00:00, 50.8kB/s]\n",
      "Downloading (…)olve/main/vocab.json: 100%|████| 899k/899k [00:01<00:00, 839kB/s]\n",
      "Downloading (…)olve/main/merges.txt: 100%|████| 456k/456k [00:00<00:00, 706kB/s]\n",
      "Downloading (…)/main/tokenizer.json: 100%|██| 1.36M/1.36M [00:01<00:00, 983kB/s]\n",
      "Downloading (…)\"pytorch_model.bin\";: 100%|████| 501M/501M [09:18<00:00, 897kB/s]\n",
      "Some weights of the model checkpoint at roberta-base were not used when initializing RobertaModel: ['lm_head.decoder.weight', 'lm_head.layer_norm.bias', 'lm_head.dense.weight', 'lm_head.layer_norm.weight', 'lm_head.bias', 'lm_head.dense.bias']\n",
      "- This IS expected if you are initializing RobertaModel from the checkpoint of a model trained on another task or with another architecture (e.g. initializing a BertForSequenceClassification model from a BertForPreTraining model).\n",
      "- This IS NOT expected if you are initializing RobertaModel from the checkpoint of a model that you expect to be exactly identical (initializing a BertForSequenceClassification model from a BertForSequenceClassification model).\n",
      "[2023-03-06 13:22:09,538] [INFO] Initialized pipeline components: ['transformer', 'ner']\n",
      "\u001b[38;5;2m✔ Initialized pipeline\u001b[0m\n",
      "\u001b[1m\n",
      "============================= Training pipeline =============================\u001b[0m\n",
      "\u001b[38;5;4mℹ Pipeline: ['transformer', 'ner']\u001b[0m\n",
      "\u001b[38;5;4mℹ Initial learn rate: 0.0\u001b[0m\n",
      "E    #       LOSS TRANS...  LOSS NER  ENTS_F  ENTS_P  ENTS_R  SCORE \n",
      "---  ------  -------------  --------  ------  ------  ------  ------\n",
      "^C\n"
     ]
    }
   ],
   "source": [
    "!python -m spacy train config.cfg --output ./output --paths.train ./KennethLabels.spacy --paths.dev ./KennethLabels.spacy"
   ]
  }
 ],
 "metadata": {
  "kernelspec": {
   "display_name": "venv",
   "language": "python",
   "name": "python3"
  },
  "language_info": {
   "codemirror_mode": {
    "name": "ipython",
    "version": 3
   },
   "file_extension": ".py",
   "mimetype": "text/x-python",
   "name": "python",
   "nbconvert_exporter": "python",
   "pygments_lexer": "ipython3",
   "version": "3.9.16"
  },
  "orig_nbformat": 4,
  "vscode": {
   "interpreter": {
    "hash": "1197922063c724986158a3dd3f92ff66deafc1eeaeb64f89e94ea3a83b139bff"
   }
  }
 },
 "nbformat": 4,
 "nbformat_minor": 2
}
