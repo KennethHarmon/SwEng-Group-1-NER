{
 "cells": [
  {
   "cell_type": "code",
   "execution_count": null,
   "id": "bd9aba67",
   "metadata": {},
   "outputs": [],
   "source": [
    "import spacy"
   ]
  },
  {
   "cell_type": "code",
   "execution_count": null,
   "id": "e2d29d32",
   "metadata": {},
   "outputs": [],
   "source": [
    "# Load the trained NER model\n",
    "nlp = spacy.load('/path/to/ner_model')\n",
    "\n",
    "# Load your test data here\n",
    "TEST_DATA = [...] # your test data\n",
    "\n",
    "# Initialize variables for counting true positives, false positives, and false negatives\n",
    "tp = 0\n",
    "fp = 0\n",
    "fn = 0"
   ]
  },
  {
   "cell_type": "code",
   "execution_count": null,
   "id": "196a1d21",
   "metadata": {},
   "outputs": [],
   "source": [
    "# Iterate over the test data and update the variables based on the model's predictions\n",
    "for text, annotations in TEST_DATA:\n",
    "    doc = nlp(text)\n",
    "    for ent in doc.ents:\n",
    "        if ent.label_ in annotations:\n",
    "            tp += 1\n",
    "        else:\n",
    "            fp += 1\n",
    "    for label in annotations:\n",
    "        if label not in [ent.label_ for ent in doc.ents]:\n",
    "            fn += 1"
   ]
  },
  {
   "cell_type": "code",
   "execution_count": null,
   "id": "5ff528bd",
   "metadata": {},
   "outputs": [],
   "source": [
    "# Calculate precision, recall, and F1 score\n",
    "precision = tp / (tp + fp)\n",
    "recall = tp / (tp + fn)\n",
    "f1_score = 2 * (precision * recall) / (precision + recall)\n"
   ]
  },
  {
   "cell_type": "code",
   "execution_count": null,
   "id": "5536763a",
   "metadata": {},
   "outputs": [],
   "source": [
    "# Print the evaluation metrics\n",
    "print(f\"Precision: {precision:.3f}\")\n",
    "print(f\"Recall: {recall:.3f}\")\n",
    "print(f\"F1 score: {f1_score:.3f}\")"
   ]
  }
 ],
 "metadata": {
  "kernelspec": {
   "display_name": "Python 3 (ipykernel)",
   "language": "python",
   "name": "python3"
  },
  "language_info": {
   "codemirror_mode": {
    "name": "ipython",
    "version": 3
   },
   "file_extension": ".py",
   "mimetype": "text/x-python",
   "name": "python",
   "nbconvert_exporter": "python",
   "pygments_lexer": "ipython3",
   "version": "3.11.1"
  }
 },
 "nbformat": 4,
 "nbformat_minor": 5
}
