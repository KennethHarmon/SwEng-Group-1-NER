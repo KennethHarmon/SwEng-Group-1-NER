{
  "cells": [
    {
      "cell_type": "code",
      "execution_count": null,
      "metadata": {
        "colab": {
          "base_uri": "https://localhost:8080/"
        },
        "id": "Qa5BuxFqc_GV",
        "outputId": "a1744656-ef47-4918-cd9d-656383e99a72"
      },
      "outputs": [],
      "source": [
        "!pip install flair"
      ]
    },
    {
      "cell_type": "code",
      "execution_count": null,
      "metadata": {
        "colab": {
          "base_uri": "https://localhost:8080/"
        },
        "id": "1xapPR8MfirF",
        "outputId": "f94ee09e-ab45-49db-95be-0bb1d0e8a711"
      },
      "outputs": [],
      "source": [
        "from google.colab import drive\n",
        "drive.mount('/content/drive')"
      ]
    },
    {
      "cell_type": "code",
      "execution_count": null,
      "metadata": {
        "colab": {
          "base_uri": "https://localhost:8080/"
        },
        "id": "6KkGR5t3rjZa",
        "outputId": "9744adcb-af49-4426-abdb-e758988ae82a"
      },
      "outputs": [],
      "source": [
        "from flair.data import Sentence\n",
        "from flair.models import SequenceTagger\n",
        "from flair.datasets import ColumnCorpus\n",
        "# load the trained model\n",
        "model = SequenceTagger.load('/content/drive/MyDrive/colab/best-model.pt')\n",
        "\n",
        "# Specify the path to your custom corpus\n",
        "data_folder = \"/content/drive/MyDrive/colab/\"\n",
        "\n",
        "# Specify the column format of your corpus (in this example, 'text' and 'ner' columns)\n",
        "columns = {0: 'text', 1: 'ner'}\n",
        "\n",
        "corpus = ColumnCorpus(data_folder, columns, train_file='training2.txt', dev_file='dev2.txt', test_file='test2.txt')\n",
        "\n",
        "tagger: SequenceTagger = SequenceTagger.load('ner')\n",
        "result = tagger.evaluate(corpus.test, gold_label_type='ner')\n",
        "print(result.detailed_results)"
      ]
    },
    {
      "cell_type": "code",
      "execution_count": null,
      "metadata": {
        "colab": {
          "base_uri": "https://localhost:8080/"
        },
        "id": "577nRTYKyIc6",
        "outputId": "81f9ea6f-31f1-4a8c-d433-92e4d47e0502"
      },
      "outputs": [],
      "source": [
        "from flair.datasets import ColumnCorpus\n",
        "from flair.embeddings import WordEmbeddings, StackedEmbeddings, FlairEmbeddings\n",
        "from flair.models import SequenceTagger\n",
        "from flair.trainers import ModelTrainer\n",
        "\n",
        "# Specify the path to your custom corpus\n",
        "data_folder = \"/content/drive/MyDrive/colab\"\n",
        "\n",
        "# Specify the column format of your corpus (in this example, 'text' and 'ner' columns)\n",
        "columns = {0: 'text', 1: 'ner'}\n",
        "\n",
        "# Load your corpus\n",
        "corpus = ColumnCorpus(data_folder, columns, train_file='training2.txt', dev_file='dev2.txt', test_file='test2.txt')\n",
        "'''\n",
        "print(len(corpus.train))\n",
        "print(corpus.train[0].to_tagged_string('ner'))\n",
        "'''\n",
        "# Create the word embeddings\n",
        "embedding_types = [\n",
        "    WordEmbeddings('glove'),\n",
        "    WordEmbeddings('crawl'),\n",
        "    FlairEmbeddings('en-forward'),\n",
        "    #FlairEmbeddings('en-backward')\n",
        "]\n",
        "embeddings = StackedEmbeddings(embedding_types)\n",
        "\n",
        "# Create the tagger\n",
        "tagger : SequenceTagger = SequenceTagger(hidden_size=256,\n",
        "                                       embeddings=embeddings,\n",
        "                                       tag_dictionary=corpus.make_label_dictionary(label_type='ner'),\n",
        "                                       tag_type='ner',\n",
        "                                       use_crf=True)\n",
        "print(tagger)\n",
        "\n",
        "# Train the tagger\n",
        "trainer = ModelTrainer(tagger, corpus)\n",
        "trainer.train('/content/drive/MyDrive/colab', learning_rate=0.1, mini_batch_size=32, max_epochs=150)\n"
      ]
    }
  ],
  "metadata": {
    "accelerator": "GPU",
    "colab": {
      "provenance": []
    },
    "gpuClass": "standard",
    "kernelspec": {
      "display_name": "Python 3",
      "name": "python3"
    },
    "language_info": {
      "name": "python"
    }
  },
  "nbformat": 4,
  "nbformat_minor": 0
}
