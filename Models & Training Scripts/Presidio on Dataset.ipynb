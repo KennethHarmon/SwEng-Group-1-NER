{
 "cells": [
  {
   "cell_type": "code",
   "execution_count": null,
   "metadata": {},
   "outputs": [],
   "source": [
    "!pip install spacy\n",
    "!pip install presidio-analyzer\n",
    "!python3 -m spacy download en_core_web_sm\n",
    "!python3 -m spacy download en_core_web_lg"
   ]
  },
  {
   "cell_type": "code",
   "execution_count": null,
   "metadata": {},
   "outputs": [],
   "source": [
    "import spacy\n",
    "from presidio_analyzer import AnalyzerEngine\n",
    "from presidio_anonymizer import AnonymizerEngine\n",
    "from presidio_analyzer import Pattern, PatternRecognizer\n",
    "import csv"
   ]
  },
  {
   "cell_type": "code",
   "execution_count": null,
   "metadata": {},
   "outputs": [],
   "source": [
    "# Load the SpaCy English language model\n",
    "nlp = spacy.load('en_core_web_sm')\n",
    "\n",
    "# Create an instance of the AnalyzerEngine\n",
    "engine = AnalyzerEngine()\n",
    "\n",
    "# Create an instance of the AnonymizerEngine\n",
    "anonymizer = AnonymizerEngine()\n",
    "\n",
    "# Define the regex pattern in a Presidio `Pattern` object:\n",
    "#emails_pattern = Pattern(name=\"emails_pattern\", regex=\"^[a-zA-Z0-9._%+-]+@[a-zA-Z0-9.-]+\\.[a-zA-Z]{2,}$\", score=0.5)\n",
    "\n",
    "# Define the recognizer with one or more patterns\n",
    "#email_recognizer = PatternRecognizer(\n",
    "#    supported_entity=\"EMAIL_ID\", patterns=[emails_pattern]\n",
    "#)\n",
    "#\n",
    "## Define the regex pattern in a Presidio `Pattern` object:\n",
    "#names_pattern = Pattern(name=\"names_pattern\", regex=\"\\b[A-Z][a-z]*('\\w+)?(?:\\s[A-Z][a-z]*('\\w+)?)*\\b\", score=0.5)\n",
    "#\n",
    "## Define the recognizer with one or more patterns\n",
    "#name_recognizer = PatternRecognizer(\n",
    "#    supported_entity=\"NAME\", patterns=[names_pattern]\n",
    "#)"
   ]
  },
  {
   "cell_type": "code",
   "execution_count": null,
   "metadata": {},
   "outputs": [],
   "source": [
    "#Read the dataset to analyze\n",
    "with open('new_twitter_data_men_rem_to_send.csv', 'r') as file:\n",
    "    reader = csv.reader(file)\n",
    "    data_list = []\n",
    "    for row in reader:\n",
    "\n",
    "        data_list.append(row[1])\n",
    "        #print(data)\n",
    "\n",
    "for data in data_list:\n",
    "# Define the text to analyze\n",
    "    text = data\n",
    "    print(text)\n",
    "# Process the text using SpaCy\n",
    "    doc = nlp(text)\n",
    "\n",
    "# Analyze the text for sensitive information using Microsoft Presidio Analyzer\n",
    "    results = engine.analyze(text, entities=[ \"EMAIL_ADDRESS\", \"PERSON\", \"PHONE_NUMBER\"], language='en')\n",
    "\n",
    "# Print the results\n",
    "    print(results)\n",
    "\n",
    "    anonymized_text = anonymizer.anonymize(text = text, analyzer_results = results)\n",
    "    print(anonymized_text)"
   ]
  }
 ],
 "metadata": {
  "language_info": {
   "name": "python"
  },
  "orig_nbformat": 4
 },
 "nbformat": 4,
 "nbformat_minor": 2
}
