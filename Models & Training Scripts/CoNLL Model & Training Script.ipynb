{
 "cells": [
  {
   "cell_type": "code",
   "execution_count": 2,
   "id": "4ff0b024",
   "metadata": {},
   "outputs": [
    {
     "ename": "AttributeError",
     "evalue": "module 'spacy' has no attribute 'datasets'",
     "output_type": "error",
     "traceback": [
      "\u001b[1;31m---------------------------------------------------------------------------\u001b[0m",
      "\u001b[1;31mAttributeError\u001b[0m                            Traceback (most recent call last)",
      "Cell \u001b[1;32mIn[2], line 5\u001b[0m\n\u001b[0;32m      2\u001b[0m \u001b[38;5;28;01mfrom\u001b[39;00m \u001b[38;5;21;01mspacy\u001b[39;00m\u001b[38;5;21;01m.\u001b[39;00m\u001b[38;5;21;01mtraining\u001b[39;00m\u001b[38;5;21;01m.\u001b[39;00m\u001b[38;5;21;01mexample\u001b[39;00m \u001b[38;5;28;01mimport\u001b[39;00m Example\n\u001b[0;32m      4\u001b[0m \u001b[38;5;66;03m# Load the CoNLL-2003 dataset\u001b[39;00m\n\u001b[1;32m----> 5\u001b[0m TRAIN_DATA \u001b[38;5;241m=\u001b[39m \u001b[43mspacy\u001b[49m\u001b[38;5;241;43m.\u001b[39;49m\u001b[43mdatasets\u001b[49m\u001b[38;5;241m.\u001b[39mconll2003\u001b[38;5;241m.\u001b[39mread_training(\u001b[38;5;124m\"\u001b[39m\u001b[38;5;124mpath/to/train.txt\u001b[39m\u001b[38;5;124m\"\u001b[39m)\n",
      "\u001b[1;31mAttributeError\u001b[0m: module 'spacy' has no attribute 'datasets'"
     ]
    }
   ],
   "source": [
    "import spacy\n",
    "from spacy.training.example import Example\n",
    "\n",
    "# Load the CoNLL-2003 dataset\n",
    "TRAIN_DATA = spacy.datasets.conll2003.read_training(\"path/to/train.txt\")\n"
   ]
  },
  {
   "cell_type": "code",
   "execution_count": null,
   "id": "8fdb7a11",
   "metadata": {},
   "outputs": [],
   "source": [
    "nlp = spacy.load(\"en_core_web_sm\")\n",
    "\n",
    "# Add a new entity label to the model\n",
    "ner = nlp.get_pipe(\"ner\")\n",
    "ner.add_label(\"MY_ENTITY\")\n"
   ]
  },
  {
   "cell_type": "code",
   "execution_count": null,
   "id": "b9e0e729",
   "metadata": {},
   "outputs": [],
   "source": [
    "from spacy.util import minibatch, compounding\n",
    "\n",
    "# Define hyperparameters\n",
    "n_iter = 100\n",
    "dropout = 0.5\n",
    "batch_size = 32\n",
    "learn_rate = 0.001\n",
    "\n",
    "# Get names of other pipes to disable them during training\n",
    "pipe_exceptions = [\"ner\", \"trf_wordpiecer\", \"trf_tok2vec\"]\n",
    "other_pipes = [pipe for pipe in nlp.pipe_names if pipe not in pipe_exceptions]\n",
    "\n",
    "# Only train NER\n",
    "with nlp.disable_pipes(*other_pipes):\n",
    "    # Initialize optimizer and loss function\n",
    "    optimizer = nlp.begin_training()\n",
    "    loss_function = nlp.entity.create_loss(ner)\n",
    "\n",
    "# Iterate over training data\n",
    "for i in range(n_iter):\n",
    "    losses = {}\n",
    "    # Create batches of data using spaCy's minibatch function\n",
    "    batches = minibatch(TRAIN_DATA, size=compounding(batch_size, 32, 1.001))\n",
    "    for batch in batches:\n",
    "        # Extract the text and annotations from the batch\n",
    "        texts, annotations = zip(*batch)\n",
    "        examples = []\n",
    "        # Convert the text and annotations into Example objects\n",
    "        for i in range(len(texts)):\n",
    "            examples.append(Example.from_dict(nlp.make_doc(texts[i]), annotations[i]))\n",
    "        # Update the NER model with the examples\n",
    "        nlp.update(examples, sgd=optimizer, drop=dropout, losses=losses)\n",
    "\n",
    "        # Print the loss every 10 iterations\n",
    "        if i % 10 == 0:\n",
    "            print(f\"Loss at iteration {i}: {losses['ner']}\")\n",
    "\n",
    "# Save the trained model\n",
    "nlp.to_disk(\"path/to/model\")\n"
   ]
  },
  {
   "cell_type": "code",
   "execution_count": null,
   "id": "96c5f747",
   "metadata": {},
   "outputs": [],
   "source": [
    "# Load the test dataset\n",
    "TEST_DATA = spacy.datasets.conll2003.read_data(\"path/to/test.txt\")\n",
    "\n",
    "# Disable other pipes to only use NER in the pipeline\n",
    "with nlp.select_pipes(enable=[\"ner\"]):\n",
    "    # Evaluate the model\n",
    "    scorer = nlp.evaluate(TEST_DATA)\n",
    "\n",
    "# Print the scores\n",
    "print(scorer.scores)\n"
   ]
  }
 ],
 "metadata": {
  "kernelspec": {
   "display_name": "Python 3 (ipykernel)",
   "language": "python",
   "name": "python3"
  },
  "language_info": {
   "codemirror_mode": {
    "name": "ipython",
    "version": 3
   },
   "file_extension": ".py",
   "mimetype": "text/x-python",
   "name": "python",
   "nbconvert_exporter": "python",
   "pygments_lexer": "ipython3",
   "version": "3.11.1"
  }
 },
 "nbformat": 4,
 "nbformat_minor": 5
}
